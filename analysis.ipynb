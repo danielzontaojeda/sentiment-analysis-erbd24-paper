{
 "cells": [
  {
   "cell_type": "code",
   "execution_count": 2,
   "metadata": {},
   "outputs": [],
   "source": [
    "import pandas as pd\n",
    "import matplotlib.pyplot as plt\n"
   ]
  },
  {
   "cell_type": "code",
   "execution_count": 41,
   "metadata": {},
   "outputs": [],
   "source": [
    "games = pd.read_csv('output/games.csv')\n",
    "iphone = pd.read_csv('output/iphone.csv')\n",
    "lg = pd.read_csv('output/lg.csv')\n",
    "samsung = pd.read_csv('output/samsung.csv')\n",
    "shoes = pd.read_csv('output/shoes.csv')\n",
    "xiaomi = pd.read_csv('output/xiaomi.csv')\n",
    "df = lg"
   ]
  },
  {
   "cell_type": "code",
   "execution_count": 43,
   "metadata": {},
   "outputs": [
    {
     "name": "stderr",
     "output_type": "stream",
     "text": [
      "C:\\Users\\danie\\AppData\\Local\\Temp\\ipykernel_27348\\2977833505.py:5: FutureWarning: The default of observed=False is deprecated and will be changed to True in a future version of pandas. Pass observed=False to retain current behavior or observed=True to adopt the future default and silence this warning.\n",
      "  df.groupby('quantifier')['accuracy'].mean().round(3)\n"
     ]
    },
    {
     "data": {
      "text/plain": [
       "quantifier\n",
       "CC      0.853\n",
       "ACC     0.885\n",
       "MAX     0.891\n",
       "T50     0.844\n",
       "X       0.891\n",
       "MS      0.892\n",
       "HDy     0.822\n",
       "SMM     0.871\n",
       "SORD    0.893\n",
       "DyS     0.852\n",
       "Name: accuracy, dtype: float64"
      ]
     },
     "execution_count": 43,
     "metadata": {},
     "output_type": "execute_result"
    }
   ],
   "source": [
    "order = ['CC', 'ACC', 'MAX', 'T50', 'X', 'MS', 'HDy', 'SMM', 'SORD', 'DyS']\n",
    "df['quantifier'] = pd.Categorical(\n",
    "    df['quantifier'], categories=order, ordered=True)\n",
    "\n",
    "df.groupby('quantifier')['accuracy'].mean().round(3)"
   ]
  },
  {
   "cell_type": "markdown",
   "metadata": {},
   "source": []
  }
 ],
 "metadata": {
  "kernelspec": {
   "display_name": ".venv",
   "language": "python",
   "name": "python3"
  },
  "language_info": {
   "codemirror_mode": {
    "name": "ipython",
    "version": 3
   },
   "file_extension": ".py",
   "mimetype": "text/x-python",
   "name": "python",
   "nbconvert_exporter": "python",
   "pygments_lexer": "ipython3",
   "version": "3.12.2"
  }
 },
 "nbformat": 4,
 "nbformat_minor": 2
}
